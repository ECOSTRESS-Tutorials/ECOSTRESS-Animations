{
 "cells": [
  {
   "cell_type": "markdown",
   "metadata": {},
   "source": [
    "# Create a GIF and Animation for Land Surface Temperature Data\n",
    "ECOSTRESS Tutorials\n",
    "\n",
    "This code is used to create .gif and .mp4 files to animate ECOSTRESS Land Surface Temperature (LST) images. This code uses Fahrenheit, but it can be modified to create Celsius animations. If you are using macOS, make sure to use 'brew install ffmpeg' in your terminal."
   ]
  },
  {
   "cell_type": "markdown",
   "metadata": {},
   "source": [
    "### Import the Necessary Libraries"
   ]
  },
  {
   "cell_type": "code",
   "execution_count": null,
   "metadata": {},
   "outputs": [],
   "source": [
    "import os\n",
    "import matplotlib.pyplot as plt\n",
    "import matplotlib.animation as animation\n",
    "from matplotlib import rcParams\n",
    "import rioxarray as rxr\n",
    "from mpl_toolkits.axes_grid1 import make_axes_locatable\n",
    "from datetime import datetime\n",
    "import numpy as np\n",
    "from matplotlib.animation import PillowWriter\n",
    "from matplotlib.colors import LinearSegmentedColormap\n",
    "import pytz"
   ]
  },
  {
   "cell_type": "markdown",
   "metadata": {},
   "source": [
    "### Define your Input and Output Directories"
   ]
  },
  {
   "cell_type": "code",
   "execution_count": null,
   "metadata": {},
   "outputs": [],
   "source": [
    "# Set ths variable equal to the path where the images you want to create an animation of are stored\n",
    "image_folder = r'Replace_this_text_with_folder_path'\n",
    "# Set this variable to the folder or location that you want your output animations to be saved\n",
    "output_folder = r'Replace_this_text_with_folder_path'"
   ]
  },
  {
   "cell_type": "markdown",
   "metadata": {},
   "source": [
    "# Create a GIF\n",
    "### Set Up Functions to Extract UTC Datetime"
   ]
  },
  {
   "cell_type": "code",
   "execution_count": null,
   "metadata": {},
   "outputs": [],
   "source": [
    "# Function to extract title information from filenames\n",
    "def title_from_file(filename):\n",
    "    time_info = filename.split('doy')[1][:13]  # Extract date string\n",
    "    dt = datetime.strptime(time_info, '%Y%j%H%M%S')  # Parse to UTC datetime\n",
    "\n",
    "    # Convert from UTC to Pacific Time (America/Los_Angeles)\n",
    "    utc_dt = pytz.utc.localize(dt)\n",
    "    pacific_tz = pytz.timezone('America/Los_Angeles') # You can change this to the time zone where your images are from\n",
    "    pacific_dt = utc_dt.astimezone(pacific_tz)\n",
    "\n",
    "    # Format the date and time to be more readable\n",
    "    formatted_datetime = pacific_dt.strftime('%Y-%m-%d at %I:%M %p (%Z)')\n",
    "    title = f\"Land Surface Temperature (°F)  {formatted_datetime}\"\n",
    "\n",
    "    return title\n",
    "\n",
    "# Convert Kelvin to Fahrenheit\n",
    "def kelvin_to_fahrenheit(kelvin_array):\n",
    "    return (kelvin_array - 273.15) * 9/5 + 32\n",
    "\n",
    "# Function to determine if the image is taken during the day or night in Pacific Time\n",
    "def is_daytime(filename):\n",
    "    time_info = filename.split('doy')[1][:13]  # Extract date string\n",
    "    dt = datetime.strptime(time_info, '%Y%j%H%M%S')  # Parse to UTC datetime\n",
    "\n",
    "    # Convert from UTC to Pacific Time (America/Los_Angeles)\n",
    "    utc_dt = pytz.utc.localize(dt)\n",
    "    pacific_tz = pytz.timezone('America/Los_Angeles') # You can change this to the time zone where your images are from\n",
    "    pacific_dt = utc_dt.astimezone(pacific_tz)\n",
    "\n",
    "    hour = pacific_dt.hour  # Extract the hour in Pacific Time\n",
    "    return 6 <= hour <= 18  # Daytime is between 6:00 AM and 6:00 PM Pacific Time"
   ]
  },
  {
   "cell_type": "markdown",
   "metadata": {},
   "source": [
    "### Identify if Image is Daytime or Nightime"
   ]
  },
  {
   "cell_type": "code",
   "execution_count": null,
   "metadata": {},
   "outputs": [],
   "source": [
    "# Get list of all image files in the folder\n",
    "files = sorted([f for f in os.listdir(image_folder) if f.endswith('.tif')])\n",
    "\n",
    "if not files:\n",
    "    raise FileNotFoundError(\"No .tif files found in the specified folder.\")\n",
    "\n",
    "# Separate files into daytime and nighttime images\n",
    "daytime_files = [f for f in files if is_daytime(f)]\n",
    "nighttime_files = [f for f in files if not is_daytime(f)]"
   ]
  },
  {
   "cell_type": "markdown",
   "metadata": {},
   "source": [
    "### Make a Helper Function to Create the GIF"
   ]
  },
  {
   "cell_type": "code",
   "execution_count": null,
   "metadata": {},
   "outputs": [],
   "source": [
    "# Define your custom colormap\n",
    "ET_COLORMAP = LinearSegmentedColormap.from_list(\"ET\", [\n",
    "    \"#f6e8c3\",\n",
    "    \"#d8b365\",\n",
    "    \"#99974a\",\n",
    "    \"#53792d\",\n",
    "    \"#6bdfd2\",\n",
    "    \"#1839c5\"\n",
    "])\n",
    "\n",
    "# Helper function to create GIF for a given set of files\n",
    "def create_gif(file_list, output_file):\n",
    "    rcParams['animation.html'] = 'jshtml'\n",
    "    fig = plt.figure()\n",
    "    ax = fig.add_subplot(111)\n",
    "\n",
    "    div = make_axes_locatable(ax)\n",
    "    cax = div.append_axes('right', '5%', '5%')\n",
    "\n",
    "    # Load LST images, apply scale factor, and convert to Fahrenheit\n",
    "    LST_rasters = [rxr.open_rasterio(os.path.join(image_folder, file)).squeeze(\"band\", drop=True) * 0.02 for file in file_list]\n",
    "    LST_rasters_fahrenheit = [kelvin_to_fahrenheit(raster.values) for raster in LST_rasters]\n",
    "\n",
    "    # Prepare frames for animation\n",
    "    frames = []\n",
    "    for raster_fahrenheit in LST_rasters_fahrenheit:\n",
    "        np.nan_to_num(raster_fahrenheit, copy=False)  # Replace NaN values with 0\n",
    "        frames.append(raster_fahrenheit)\n",
    "\n",
    "    # Initialize the first frame for the animation\n",
    "    cv0 = frames[0]\n",
    "    im = ax.imshow(cv0, cmap=ET_COLORMAP)\n",
    "    cb = fig.colorbar(im, cax=cax, label='Land Surface Temperature (°F)')\n",
    "    tx = ax.set_title(title_from_file(file_list[0]))\n",
    "\n",
    "    # Use tight_layout() to fix the axis label visibility issue\n",
    "    plt.tight_layout()\n",
    "\n",
    "    # Animation function\n",
    "    def animate(i):\n",
    "        arr = frames[i]\n",
    "        vmax = np.max(arr[arr > 0.0])\n",
    "        vmin = np.min(arr[arr > 0.0])\n",
    "        im.set_data(arr)\n",
    "        im.set_clim(vmin, vmax)\n",
    "        tx.set_text(title_from_file(file_list[i]))\n",
    "        return im, tx\n",
    "\n",
    "    # Create the animation\n",
    "    ani = animation.FuncAnimation(fig, animate, frames=len(file_list), interval=1000, blit=True, repeat_delay=5000)\n",
    "\n",
    "    # Save the animation as a GIF\n",
    "    print(f\"Saving animation to {output_file}\")\n",
    "    ani.save(output_file, writer=PillowWriter(fps=1))\n",
    "    print(f\"Animation successfully saved to {output_file}\")\n"
   ]
  },
  {
   "cell_type": "markdown",
   "metadata": {},
   "source": [
    "### Save the Outputs"
   ]
  },
  {
   "cell_type": "code",
   "execution_count": null,
   "metadata": {},
   "outputs": [],
   "source": [
    "# Create GIF for daytime images\n",
    "if daytime_files:\n",
    "    output_path = os.path.join(output_folder, 'LST_animation_daytime.gif')\n",
    "    create_gif(daytime_files, output_path)\n",
    "\n",
    "# Create GIF for nighttime images\n",
    "if nighttime_files:\n",
    "    output_path = os.path.join(output_folder, 'LST_animation_nighttime.gif')\n",
    "    create_gif(nighttime_files, output_path)"
   ]
  },
  {
   "cell_type": "markdown",
   "metadata": {},
   "source": [
    "# Create Animations"
   ]
  },
  {
   "cell_type": "markdown",
   "metadata": {},
   "source": [
    "### Set Up Functions to Extract UTC Datetime"
   ]
  },
  {
   "cell_type": "code",
   "execution_count": null,
   "metadata": {},
   "outputs": [],
   "source": [
    "# Function to extract title information from filenames\n",
    "def title_from_file(filename):\n",
    "    time_info = filename.split('doy')[1][:13]  # '2024002071024'\n",
    "    dt = datetime.strptime(time_info, '%Y%j%H%M%S')  # Parse to UTC datetime\n",
    "\n",
    "    # Convert from UTC to Pacific Time (America/Los_Angeles)\n",
    "    utc_dt = pytz.utc.localize(dt)\n",
    "    pacific_tz = pytz.timezone('America/Los_Angeles') # You can change this to the time zone where your images are from\n",
    "    pacific_dt = utc_dt.astimezone(pacific_tz)\n",
    "\n",
    "    # Format the date and time to be more readable\n",
    "    formatted_datetime = pacific_dt.strftime('%Y-%m-%d at %I:%M %p (%Z)')\n",
    "    title = f\"Land Surface Temperature (°F)  {formatted_datetime}\"\n",
    "\n",
    "    return title\n",
    "\n",
    "# Convert Kelvin to Fahrenheit\n",
    "def kelvin_to_fahrenheit(kelvin_array):\n",
    "    return (kelvin_array - 273.15) * 9/5 + 32\n",
    "\n",
    "# Function to determine if the image is taken during the day or night in Pacific Time\n",
    "def is_daytime(filename):\n",
    "    time_info = filename.split('doy')[1][:13]  # Extract date string\n",
    "    dt = datetime.strptime(time_info, '%Y%j%H%M%S')  # Parse to UTC datetime\n",
    "\n",
    "    # Convert from UTC to Pacific Time (America/Los_Angeles)\n",
    "    utc_dt = pytz.utc.localize(dt)\n",
    "    pacific_tz = pytz.timezone('America/Los_Angeles') # You can change this to the time zone where your images are from\n",
    "    pacific_dt = utc_dt.astimezone(pacific_tz)\n",
    "\n",
    "    hour = pacific_dt.hour  # Extract the hour in Pacific Time\n",
    "    return 6 <= hour <= 18  # Daytime is between 6:00 AM and 6:00 PM Pacific Time"
   ]
  },
  {
   "cell_type": "markdown",
   "metadata": {},
   "source": [
    "### Identify if Image is Daytime or Nighttime"
   ]
  },
  {
   "cell_type": "code",
   "execution_count": null,
   "metadata": {},
   "outputs": [],
   "source": [
    "# Get list of all image files in the folder\n",
    "files = sorted([f for f in os.listdir(image_folder) if f.endswith('.tif')])\n",
    "\n",
    "# Separate files into daytime and nighttime images\n",
    "daytime_files = [f for f in files if is_daytime(f)]\n",
    "nighttime_files = [f for f in files if not is_daytime(f)]"
   ]
  },
  {
   "cell_type": "markdown",
   "metadata": {},
   "source": [
    "### Helper Function to Create .mp4 File"
   ]
  },
  {
   "cell_type": "code",
   "execution_count": null,
   "metadata": {},
   "outputs": [],
   "source": [
    "# Define your custom colormap\n",
    "ET_COLORMAP = LinearSegmentedColormap.from_list(\"ET\", [\n",
    "    \"#f6e8c3\",\n",
    "    \"#d8b365\",\n",
    "    \"#99974a\",\n",
    "    \"#53792d\",\n",
    "    \"#6bdfd2\",\n",
    "    \"#1839c5\"\n",
    "])\n",
    "\n",
    "# Helper function to create the animation\n",
    "def create_animation(file_list, output_file):\n",
    "    rcParams['animation.html'] = 'jshtml'\n",
    "    fig = plt.figure()\n",
    "    ax = fig.add_subplot(111)\n",
    "\n",
    "    div = make_axes_locatable(ax)\n",
    "    cax = div.append_axes('right', '5%', '5%')\n",
    "\n",
    "    # Load LST images, apply scale factor, and convert to Fahrenheit\n",
    "    LST_rasters = [(rxr.open_rasterio(os.path.join(image_folder, file)).squeeze(\"band\", drop=True) * 0.02) for file in file_list]\n",
    "    LST_rasters_fahrenheit = [kelvin_to_fahrenheit(raster.values) for raster in LST_rasters]\n",
    "\n",
    "    # Prepare frames for animation\n",
    "    frames = []\n",
    "    for raster_fahrenheit in LST_rasters_fahrenheit:\n",
    "        np.nan_to_num(raster_fahrenheit, copy=False)  # Replace NaN values with 0\n",
    "        frames.append(raster_fahrenheit)\n",
    "\n",
    "    # Initialize the first frame for the animation\n",
    "    cv0 = frames[0]\n",
    "    im = ax.imshow(cv0, cmap=ET_COLORMAP)\n",
    "    cb = fig.colorbar(im, cax=cax, label='Land Surface Temperature (°F)')\n",
    "    tx = ax.set_title(title_from_file(file_list[0]))\n",
    "\n",
    "    # Use tight_layout() to fix the axis label visibility issue\n",
    "    plt.tight_layout()\n",
    "\n",
    "    # Animation function\n",
    "    def animate(i):\n",
    "        arr = frames[i]\n",
    "        vmax = np.max(arr[arr > 0.0])\n",
    "        vmin = np.min(arr[arr > 0.0])\n",
    "        im.set_data(arr)\n",
    "        im.set_clim(vmin, vmax)\n",
    "        tx.set_text(title_from_file(file_list[i]))\n",
    "        return im, tx\n",
    "\n",
    "    # Create the animation\n",
    "    ani = animation.FuncAnimation(fig, animate, frames=len(file_list), interval=1000, blit=True, repeat_delay=5000)\n",
    "\n",
    "    # Save the animation as an MP4\n",
    "    print(f\"Saving animation to {output_file}\")\n",
    "    ani.save(output_file, writer='ffmpeg', fps=2)\n",
    "    print(f\"Animation successfully saved to {output_file}\")\n"
   ]
  },
  {
   "cell_type": "markdown",
   "metadata": {},
   "source": [
    "### Save the Outputs"
   ]
  },
  {
   "cell_type": "code",
   "execution_count": null,
   "metadata": {},
   "outputs": [],
   "source": [
    "# Create GIF for daytime images\n",
    "if daytime_files:\n",
    "    output_path = os.path.join(output_folder, 'LST_animation_daytime.mp4')\n",
    "    create_animation(daytime_files, output_path)\n",
    "\n",
    "# Create GIF for nighttime images\n",
    "if nighttime_files:\n",
    "    output_path = os.path.join(output_folder, 'LST_animation_nighttime.mp4')\n",
    "    create_animation(nighttime_files, output_path)"
   ]
  },
  {
   "cell_type": "markdown",
   "metadata": {},
   "source": [
    "# Create Animations with Standardized Values\n",
    "If you need to create the animations but with standardized values, the following code cells provide the steps to do so. The process is very similar to what we just ran, however you will be creating and adjusting the min-max values for the ET data that you are working with."
   ]
  },
  {
   "cell_type": "markdown",
   "metadata": {},
   "source": [
    "### Set up Functions to Extract UTC Datetime"
   ]
  },
  {
   "cell_type": "code",
   "execution_count": null,
   "metadata": {},
   "outputs": [],
   "source": [
    "# Function to extract title information from filenames\n",
    "def title_from_file(filename):\n",
    "    time_info = filename.split('doy')[1][:13]  # '2024002071024'\n",
    "    dt = datetime.strptime(time_info, '%Y%j%H%M%S')  # Parse to UTC datetime\n",
    "\n",
    "    # Convert from UTC to Pacific Time (America/Los_Angeles)\n",
    "    utc_dt = pytz.utc.localize(dt)\n",
    "    pacific_tz = pytz.timezone('America/Los_Angeles') # You can change this to the time zone where your images are from\n",
    "    pacific_dt = utc_dt.astimezone(pacific_tz)\n",
    "\n",
    "    # Format the date and time to be more readable\n",
    "    formatted_datetime = pacific_dt.strftime('%Y-%m-%d at %I:%M %p (%Z)')\n",
    "    title = f\"Land Surface Temperature (°F)  {formatted_datetime}\"\n",
    "\n",
    "    return title\n",
    "\n",
    "# Convert Kelvin to Fahrenheit\n",
    "def kelvin_to_fahrenheit(kelvin_array):\n",
    "    return (kelvin_array - 273.15) * 9/5 + 32\n",
    "\n",
    "# Function to determine if the image is taken during the day or night in Pacific Time\n",
    "def is_daytime(filename):\n",
    "    time_info = filename.split('doy')[1][:13]  # Extract date string\n",
    "    dt = datetime.strptime(time_info, '%Y%j%H%M%S')  # Parse to UTC datetime\n",
    "\n",
    "    # Convert from UTC to Pacific Time (America/Los_Angeles)\n",
    "    utc_dt = pytz.utc.localize(dt)\n",
    "    pacific_tz = pytz.timezone('America/Los_Angeles') # You can change this to the time zone where your images are from\n",
    "    pacific_dt = utc_dt.astimezone(pacific_tz)\n",
    "\n",
    "    hour = pacific_dt.hour  # Extract the hour in Pacific Time\n",
    "    return 6 <= hour <= 18  # Daytime is between 6:00 AM and 6:00 PM Pacific Time"
   ]
  },
  {
   "cell_type": "markdown",
   "metadata": {},
   "source": [
    "### Identify if Image is Daytime or Nighttime"
   ]
  },
  {
   "cell_type": "code",
   "execution_count": null,
   "metadata": {},
   "outputs": [],
   "source": [
    "# Get list of all image files in the folder\n",
    "files = sorted([f for f in os.listdir(image_folder) if f.endswith('.tif')])\n",
    "\n",
    "# Separate files into daytime and nighttime images\n",
    "daytime_files = [f for f in files if is_daytime(f)]\n",
    "nighttime_files = [f for f in files if not is_daytime(f)]"
   ]
  },
  {
   "cell_type": "markdown",
   "metadata": {},
   "source": [
    "### Helper Function to Create Standardized .mp4 File"
   ]
  },
  {
   "cell_type": "code",
   "execution_count": null,
   "metadata": {},
   "outputs": [],
   "source": [
    "# Define your custom colormap\n",
    "ET_COLORMAP = LinearSegmentedColormap.from_list(\"ET\", [\n",
    "    \"#f6e8c3\",\n",
    "    \"#d8b365\",\n",
    "    \"#99974a\",\n",
    "    \"#53792d\",\n",
    "    \"#6bdfd2\",\n",
    "    \"#1839c5\"\n",
    "])\n",
    "\n",
    "# Helper function to create the animation with fixed vmin and vmax\n",
    "def create_animation(file_list, output_file, vmin, vmax):\n",
    "    rcParams['animation.html'] = 'jshtml'\n",
    "    fig = plt.figure()\n",
    "    ax = fig.add_subplot(111)\n",
    "\n",
    "    div = make_axes_locatable(ax)\n",
    "    cax = div.append_axes('right', '5%', '5%')\n",
    "\n",
    "    # Load LST images, apply scale factor, and convert to Fahrenheit\n",
    "    LST_rasters = [(rxr.open_rasterio(os.path.join(image_folder, file)).squeeze(\"band\", drop=True) * 0.02) for file in file_list]\n",
    "    LST_rasters_fahrenheit = [kelvin_to_fahrenheit(raster.values) for raster in LST_rasters]\n",
    "\n",
    "    # Prepare frames for animation\n",
    "    frames = []\n",
    "    for raster_fahrenheit in LST_rasters_fahrenheit:\n",
    "        np.nan_to_num(raster_fahrenheit, copy=False)  # Replace NaN values with 0\n",
    "        frames.append(raster_fahrenheit)\n",
    "\n",
    "    # Initialize the first frame for the animation\n",
    "    cv0 = frames[0]\n",
    "    im = ax.imshow(cv0, cmap=ET_COLORMAP, vmin=vmin, vmax=vmax)  # Set vmin and vmax for fixed scale\n",
    "    cb = fig.colorbar(im, cax=cax, label='Land Surface Temperature (°F)')\n",
    "    tx = ax.set_title(title_from_file(file_list[0]))\n",
    "\n",
    "    # Use tight_layout() to fix the axis label visibility issue\n",
    "    plt.tight_layout()\n",
    "\n",
    "    # Animation function\n",
    "    def animate(i):\n",
    "        arr = frames[i]\n",
    "        im.set_data(arr)\n",
    "        tx.set_text(title_from_file(file_list[i]))\n",
    "        return im, tx\n",
    "\n",
    "    # Create the animation\n",
    "    ani = animation.FuncAnimation(fig, animate, frames=len(file_list), interval=1000, blit=True, repeat_delay=5000)\n",
    "\n",
    "    # Save the animation as an MP4\n",
    "    print(f\"Saving animation to {output_file}\")\n",
    "    ani.save(output_file, writer='ffmpeg', fps=2)\n",
    "    print(f\"Animation successfully saved to {output_file}\")\n"
   ]
  },
  {
   "cell_type": "markdown",
   "metadata": {},
   "source": [
    "### Save the Standardized Outputs"
   ]
  },
  {
   "cell_type": "code",
   "execution_count": null,
   "metadata": {},
   "outputs": [],
   "source": [
    "# Create daytime animation with fixed vmin=45 and vmax=130\n",
    "if daytime_files:\n",
    "    output_path = os.path.join(output_folder, 'LST_animation_daytime_fixed_scale.mp4')\n",
    "    create_animation(daytime_files, output_path, vmin=45, vmax=130)\n",
    "\n",
    "# Create nighttime animation with fixed vmin=30 and vmax=90\n",
    "if nighttime_files:\n",
    "    output_path = os.path.join(output_folder, 'LST_animation_nighttime_fixed_scale.mp4')\n",
    "    create_animation(nighttime_files, output_path, vmin=45, vmax=130)"
   ]
  }
 ],
 "metadata": {
  "kernelspec": {
   "display_name": "ECOSTRESS",
   "language": "python",
   "name": "python3"
  },
  "language_info": {
   "codemirror_mode": {
    "name": "ipython",
    "version": 3
   },
   "file_extension": ".py",
   "mimetype": "text/x-python",
   "name": "python",
   "nbconvert_exporter": "python",
   "pygments_lexer": "ipython3",
   "version": "3.12.7"
  }
 },
 "nbformat": 4,
 "nbformat_minor": 2
}
